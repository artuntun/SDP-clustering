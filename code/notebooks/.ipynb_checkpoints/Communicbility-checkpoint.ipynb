{
 "cells": [
  {
   "cell_type": "code",
   "execution_count": 6,
   "metadata": {},
   "outputs": [],
   "source": [
    "import numpy as np\n",
    "import sys\n",
    "import matplotlib.pyplot as plt\n",
    "sys.path.insert(0, \"../\")\n",
    "from tools_graphs import sample_random_graph"
   ]
  },
  {
   "cell_type": "markdown",
   "metadata": {},
   "source": [
    "# Centrality, Communicability and Betweeness\n",
    "\n",
    "We can have different measures that tell us information about a network. Some example is the centrality measures which tell us how well connected is a single node. A simlpe example is the degree, which counts the number of edges involving a node.\n",
    "$$deg_i = \\sum_i^N a_{ik} = (Ae)i$$\n",
    "\n",
    "However, this measure does not take in account anything but the inmediate surroundings of the node. Katz in 1953 elavorated a more shophisticated measure\n",
    "\n",
    "$$k_i := \\sum_{j=1}^N \\sum_{k=0}^\\infty \\alpha^k (A)_{ij}^k$$\n",
    "\n",
    "which also measures the further nodes impact but giving more weight to the closer ones. To see why this is true we have to understand what does it means the matrix exponential of an Adjacency matrix. Assuming that every node is reachable(full connected graph). We define the _path length_ n between two nodes i and j as a list of ordered nodes i,k_1,k_2,...,k_{n-1},j which are consecutively connected, i.e:\n",
    "$$a_{i,k_1}=a_{k_1,k_2}=...=a_{k_{n-2},k_{n-1}}=a_{k{n-1},j}=1$$\n",
    "\n",
    "In other words is the number of nodes needed to cross in order to get from i to j. Hence, the adjacnecy matrix indicate the pathlengths 1 if $a_{ij}=1$ or higher if $a_{ij}=0$. However, what happen with $A^2$? Knowing that its entries are $(A^2)_{ij} = \\sum_{k=1}^N a_{ik}a{kj}$ we can interpret as following: for each connected node to i check if there is connection with j. this is basically the sum of pathlenght 2 btween i and j. Readily, we can see how (A^2)_{ii} is equivalent to the $deg_i$ as it counts the number of walks that start and end in the same node. Is always possible to visit the adjacent nodes and come back trought the same connection. This result can be genralized to higher order exponents\n",
    "\n",
    "$$(A^n)_{ij} = \\sum_{k_1=1}^N \\sum_{k_1=1}^N \\sum_{k_{n-2}=1}^N  \\sum_{k_{n-1}=1}^N a_{i,k_1}a_{k_1,k_2}...a_{k_{n-2},k_{n-1}}a_{k_{n-1},j}$$\n",
    "\n",
    "which measures the number of walks of length n that connect the nodes. This lead to the following lemma\n",
    "\n",
    "**Lemma 1.1.** The quantity $(An)_{ij}$ counts the number of different walks $(i\\neq j)$ or closed walks $(i = j)$ of length n between nodes i and j.\n",
    "\n",
    "Now we are ready to introduce the topics of centrality, communicability and betweeness trought matrices exponential as defined by Estrada.\n",
    "\n",
    "### Centrality\n",
    "\n",
    "As stated above, centrality is the node measure of _well-connectedness_. The degree is equivalent to the digonal of the squared adjacency matrix $A^2$, which is the sum of all the closed loop walks of legnth 2. However, the closed loop walks of length 3 are an indicator of well connected neighbours. And the same can be extended for longer closed loop walks. Adding this information result in a richer measure of connectedness. However, it seems natural to weight more the shorter paths where the information is more likely to travel. Particularly, if we choose a weight decay of $\\frac{1}{n!}$ it results in\n",
    "\n",
    "$$\\Big(A + \\frac{A^2}{2!} + ... + \\frac{A^k}{k!} + ...\\Big)$$\n",
    "\n",
    "since the relative measure does not change if we add a constant and recalling that $a_{ii}=0$, it might change to  \n",
    "\n",
    "$$I + A \\Big(A + \\frac{A^2}{2!} + ... + \\frac{A^k}{k!} + ...\\Big)($$"
   ]
  },
  {
   "cell_type": "code",
   "execution_count": 7,
   "metadata": {},
   "outputs": [
    {
     "data": {
      "text/plain": [
       "array([[0, 1, 1, 0, 0],\n",
       "       [1, 0, 0, 0, 1],\n",
       "       [1, 0, 0, 0, 1],\n",
       "       [0, 0, 0, 0, 1],\n",
       "       [0, 1, 1, 1, 0]], dtype=int16)"
      ]
     },
     "execution_count": 7,
     "metadata": {},
     "output_type": "execute_result"
    }
   ],
   "source": [
    "A = sample_random_graph(5)\n",
    "A \n"
   ]
  },
  {
   "cell_type": "code",
   "execution_count": 114,
   "metadata": {},
   "outputs": [
    {
     "data": {
      "text/plain": [
       "array([[1, 0, 0, 1, 1],\n",
       "       [0, 1, 1, 0, 0],\n",
       "       [0, 1, 3, 0, 0],\n",
       "       [1, 0, 0, 1, 1],\n",
       "       [1, 0, 0, 1, 2]], dtype=int16)"
      ]
     },
     "execution_count": 114,
     "metadata": {},
     "output_type": "execute_result"
    }
   ],
   "source": [
    "Api = np.dot(A,A)\n",
    "Api"
   ]
  },
  {
   "cell_type": "code",
   "execution_count": 115,
   "metadata": {},
   "outputs": [
    {
     "data": {
      "text/plain": [
       "array([[1, 0, 0, 1, 1],\n",
       "       [0, 1, 1, 0, 0],\n",
       "       [0, 1, 3, 0, 0],\n",
       "       [1, 0, 0, 1, 1],\n",
       "       [1, 0, 0, 1, 2]], dtype=int16)"
      ]
     },
     "execution_count": 115,
     "metadata": {},
     "output_type": "execute_result"
    }
   ],
   "source": [
    "np.linalg.matrix_power(A,2)"
   ]
  },
  {
   "cell_type": "code",
   "execution_count": 116,
   "metadata": {},
   "outputs": [
    {
     "data": {
      "text/plain": [
       "array([[0, 1, 3, 0, 0],\n",
       "       [1, 0, 0, 1, 2],\n",
       "       [3, 0, 0, 3, 4],\n",
       "       [0, 1, 3, 0, 0],\n",
       "       [0, 2, 4, 0, 0]], dtype=int16)"
      ]
     },
     "execution_count": 116,
     "metadata": {},
     "output_type": "execute_result"
    }
   ],
   "source": [
    "np.linalg.matrix_power(A,3)"
   ]
  },
  {
   "cell_type": "code",
   "execution_count": 117,
   "metadata": {},
   "outputs": [
    {
     "data": {
      "text/plain": [
       "array([[ 3,  0,  0,  3,  4],\n",
       "       [ 0,  2,  4,  0,  0],\n",
       "       [ 0,  4, 10,  0,  0],\n",
       "       [ 3,  0,  0,  3,  4],\n",
       "       [ 4,  0,  0,  4,  6]], dtype=int16)"
      ]
     },
     "execution_count": 117,
     "metadata": {},
     "output_type": "execute_result"
    }
   ],
   "source": [
    "np.linalg.matrix_power(A,4)"
   ]
  },
  {
   "cell_type": "code",
   "execution_count": 118,
   "metadata": {},
   "outputs": [
    {
     "data": {
      "text/plain": [
       "array([[10,  0,  0, 10, 14],\n",
       "       [ 0,  6, 14,  0,  0],\n",
       "       [ 0, 14, 34,  0,  0],\n",
       "       [10,  0,  0, 10, 14],\n",
       "       [14,  0,  0, 14, 20]], dtype=int16)"
      ]
     },
     "execution_count": 118,
     "metadata": {},
     "output_type": "execute_result"
    }
   ],
   "source": [
    "np.linalg.matrix_power(A,6)"
   ]
  },
  {
   "cell_type": "code",
   "execution_count": null,
   "metadata": {},
   "outputs": [],
   "source": []
  },
  {
   "cell_type": "code",
   "execution_count": null,
   "metadata": {},
   "outputs": [],
   "source": []
  },
  {
   "cell_type": "code",
   "execution_count": null,
   "metadata": {},
   "outputs": [],
   "source": []
  },
  {
   "cell_type": "code",
   "execution_count": null,
   "metadata": {},
   "outputs": [],
   "source": []
  }
 ],
 "metadata": {
  "kernelspec": {
   "display_name": "Python 2",
   "language": "python",
   "name": "python2"
  },
  "language_info": {
   "codemirror_mode": {
    "name": "ipython",
    "version": 2
   },
   "file_extension": ".py",
   "mimetype": "text/x-python",
   "name": "python",
   "nbconvert_exporter": "python",
   "pygments_lexer": "ipython2",
   "version": "2.7.13"
  }
 },
 "nbformat": 4,
 "nbformat_minor": 2
}
