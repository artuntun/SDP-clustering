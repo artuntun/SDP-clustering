{
 "cells": [
  {
   "cell_type": "code",
   "execution_count": 1,
   "metadata": {
    "colab": {
     "autoexec": {
      "startup": false,
      "wait_interval": 0
     }
    },
    "colab_type": "code",
    "collapsed": true,
    "id": "ApSLKVg82Ptg"
   },
   "outputs": [],
   "source": [
    "# Preamble  here, add paths and import relevant modules\n",
    "import os\n",
    "import sys\n",
    "import numpy as np \n",
    "import sklearn\n",
    "from sklearn import datasets\n",
    "from scipy.sparse.linalg import eigsh\n",
    "from numpy.random import permutation\n",
    "% matplotlib inline\n",
    "import matplotlib.pyplot as plt"
   ]
  },
  {
   "cell_type": "code",
   "execution_count": 2,
   "metadata": {
    "colab": {
     "autoexec": {
      "startup": false,
      "wait_interval": 0
     },
     "base_uri": "https://localhost:8080/",
     "height": 232,
     "output_extras": [
      {
       "item_id": 1
      }
     ]
    },
    "colab_type": "code",
    "executionInfo": {
     "elapsed": 1345,
     "status": "error",
     "timestamp": 1519304522119,
     "user": {
      "displayName": "Arturo Arranz",
      "photoUrl": "//lh6.googleusercontent.com/-0kSNGJlQ_bQ/AAAAAAAAAAI/AAAAAAAADoU/JCUkJDaKwEA/s50-c-k-no/photo.jpg",
      "userId": "109535880582041084151"
     },
     "user_tz": -60
    },
    "id": "mzyZtMot21pV",
    "outputId": "695238fc-5583-4c1f-bfb7-77d5f3e210b5"
   },
   "outputs": [
    {
     "data": {
      "image/png": "[encoded data removed]",
      "text/plain": [
       "<matplotlib.figure.Figure at 0x115781c90>"
      ]
     },
     "metadata": {},
     "output_type": "display_data"
    }
   ],
   "source": [
    "# Two Moons dataset with different noise levels\n",
    "n_samples = 100\n",
    "x = np.zeros([n_samples,2,3])\n",
    "y = np.zeros([n_samples,3])\n",
    "plt.figure(1)\n",
    "for i in range(3):\n",
    "    x[:,:,i],y[:,i] = sklearn.datasets.make_moons(n_samples=n_samples, noise=0.02+.03*(i+1),shuffle = False)\n",
    "    n_mid = int(n_samples/2)\n",
    "    color = 'r'*n_mid + 'b'*n_mid\n",
    "    plt.subplot(1,3,i+1)\n",
    "    plt.scatter(x[:,0,i],x[:,1,i],s = 3, color = color)\n",
    "    plt.axis('off')\n",
    "    plt.title('TwoMoons, sigma = {sig}'.format(sig = 0.02+.03*(i+1)))\n",
    "plt.tight_layout()   \n",
    "plt.rcParams['figure.figsize'] = (12, 5)\n",
    "plt.show()\n",
    "\n"
   ]
  },
  {
   "cell_type": "code",
   "execution_count": 3,
   "metadata": {
    "colab": {
     "autoexec": {
      "startup": false,
      "wait_interval": 0
     }
    },
    "colab_type": "code",
    "collapsed": true,
    "id": "PUNmp7nUswp4"
   },
   "outputs": [],
   "source": [
    "#Similarity matrix\n",
    "X = x[:,:,1]\n",
    "m,n = X.shape\n",
    "S = np.zeros((m,m))\n",
    "S = np.zeros((X.shape[0],X.shape[0]))\n",
    "for i in range(m):\n",
    "  for j in range(m):\n",
    "    S[i,j] = np.exp(-np.linalg.norm(X[i,:]-X[j,:])**2/(1**2*2))\n",
    "\n",
    "#Laplacian matrix\n",
    "W = S - np.diag(np.diag(S))\n",
    "D = np.diag(np.sum(W,axis=0))\n",
    "L = D - W"
   ]
  },
  {
   "cell_type": "code",
   "execution_count": 4,
   "metadata": {
    "colab": {
     "autoexec": {
      "startup": false,
      "wait_interval": 0
     },
     "base_uri": "https://localhost:8080/",
     "height": 313,
     "output_extras": [
      {
       "item_id": 1
      },
      {
       "item_id": 2
      }
     ]
    },
    "colab_type": "code",
    "executionInfo": {
     "elapsed": 4293,
     "status": "ok",
     "timestamp": 1519243551218,
     "user": {
      "displayName": "Arturo Arranz",
      "photoUrl": "//lh6.googleusercontent.com/-0kSNGJlQ_bQ/AAAAAAAAAAI/AAAAAAAADoU/JCUkJDaKwEA/s50-c-k-no/photo.jpg",
      "userId": "109535880582041084151"
     },
     "user_tz": -60
    },
    "id": "XxDzb7Ub9UC2",
    "outputId": "cddbc2e6-0d68-40f8-93b0-03d6a3c84b3b"
   },
   "outputs": [
    {
     "name": "stdout",
     "output_type": "stream",
     "text": [
      "[ -1.32347962e-15   1.91613288e+01   2.78167697e+01   2.87161559e+01\n",
      "   3.03159442e+01   3.47087359e+01]\n"
     ]
    },
    {
     "data": {
      "image/png": "[encoded data removed]",
      "text/plain": [
       "<matplotlib.figure.Figure at 0x115781710>"
      ]
     },
     "metadata": {},
     "output_type": "display_data"
    }
   ],
   "source": [
    "#Spectral clustering\n",
    "k = 2\n",
    "lamb,V = np.linalg.eig(L)\n",
    "idx = lamb.argsort()\n",
    "lambOrder = lamb[idx]\n",
    "VOrder = V[:,idx]\n",
    "print lambOrder[:6]\n",
    "plt.scatter(range(1,20),lambOrder[:19])\n",
    "plt.xlabel('Eigenvalues')\n",
    "plt.show()"
   ]
  },
  {
   "cell_type": "code",
   "execution_count": 5,
   "metadata": {
    "colab": {
     "autoexec": {
      "startup": false,
      "wait_interval": 0
     }
    },
    "colab_type": "code",
    "collapsed": true,
    "id": "P0VGDycQ-gQT"
   },
   "outputs": [],
   "source": [
    "U = VOrder[:,:2]\n",
    "from sklearn.cluster import KMeans\n",
    "kmeans = KMeans(n_clusters=4, random_state=0).fit(U)"
   ]
  },
  {
   "cell_type": "code",
   "execution_count": 7,
   "metadata": {
    "colab": {
     "autoexec": {
      "startup": false,
      "wait_interval": 0
     },
     "base_uri": "https://localhost:8080/",
     "height": 280,
     "output_extras": [
      {
       "item_id": 1
      }
     ]
    },
    "colab_type": "code",
    "executionInfo": {
     "elapsed": 881,
     "status": "ok",
     "timestamp": 1519244543724,
     "user": {
      "displayName": "Arturo Arranz",
      "photoUrl": "//lh6.googleusercontent.com/-0kSNGJlQ_bQ/AAAAAAAAAAI/AAAAAAAADoU/JCUkJDaKwEA/s50-c-k-no/photo.jpg",
      "userId": "109535880582041084151"
     },
     "user_tz": -60
    },
    "id": "mmafmR3v-i4j",
    "outputId": "bd3a3cf0-c33f-47c3-ea3e-bedf0a5fcf45"
   },
   "outputs": [
    {
     "data": {
      "image/png": "[encoded data removed]",
      "text/plain": [
       "<matplotlib.figure.Figure at 0x11ae2be10>"
      ]
     },
     "metadata": {},
     "output_type": "display_data"
    }
   ],
   "source": [
    "f, axarr = plt.subplots(2, 1)\n",
    "axarr[0].plot(U[:,0]); axarr[0].set_title('Eigenvector 1')\n",
    "axarr[1].plot(U[:,1]); axarr[1].set_title('Eigenvector 2')\n",
    "plt.grid()\n",
    "plt.show()"
   ]
  },
  {
   "cell_type": "code",
   "execution_count": 0,
   "metadata": {
    "colab": {
     "autoexec": {
      "startup": false,
      "wait_interval": 0
     }
    },
    "colab_type": "code",
    "collapsed": true,
    "id": "irW1djt3U3GB"
   },
   "outputs": [],
   "source": [
    "!pip install cvxpy"
   ]
  },
  {
   "cell_type": "code",
   "execution_count": 69,
   "metadata": {
    "colab": {
     "autoexec": {
      "startup": false,
      "wait_interval": 0
     },
     "base_uri": "https://localhost:8080/",
     "height": 51,
     "output_extras": [
      {
       "item_id": 2
      }
     ]
    },
    "colab_type": "code",
    "executionInfo": {
     "elapsed": 137363,
     "status": "ok",
     "timestamp": 1519291942851,
     "user": {
      "displayName": "Arturo Arranz",
      "photoUrl": "//lh6.googleusercontent.com/-0kSNGJlQ_bQ/AAAAAAAAAAI/AAAAAAAADoU/JCUkJDaKwEA/s50-c-k-no/photo.jpg",
      "userId": "109535880582041084151"
     },
     "user_tz": -60
    },
    "id": "ROguLoT0CHZF",
    "outputId": "ccbe6fb6-7fe5-49b7-8fd4-c37a485c892e"
   },
   "outputs": [
    {
     "name": "stdout",
     "output_type": "stream",
     "text": [
      "True\n",
      "None\n"
     ]
    }
   ],
   "source": [
    "import cvxpy as cvx\n",
    "# Problem data.\n",
    "np.random.seed(1)\n",
    "#A = numpy.random.randn(m, n)\n",
    "L = L[:200,:200]\n",
    "m=200\n",
    "# Construct the problem.\n",
    "X = cvx.Semidef(m)\n",
    "objective = cvx.Minimize(cvx.trace(L*X))\n",
    "constraints = [X[i,i]==1 for i in range(m)] + [cvx.sum_entries(X)<=1]\n",
    "#,cvx.sum_entries(x)==0\n",
    "prob = cvx.Problem(objective,constraints)\n",
    "print prob.is_dcp()\n",
    "# The optimal objective is returned by prob.solve().\n",
    "result = prob.solve()\n",
    "# The optimal value for x is stored in x.value.\n",
    "print x.value\n",
    "# The optimal Lagrange multiplier for a constraint\n",
    "# is stored in constraint.dual_value.\n",
    "#print constraints[0].dual_value\n"
   ]
  },
  {
   "cell_type": "code",
   "execution_count": 81,
   "metadata": {
    "colab": {
     "autoexec": {
      "startup": false,
      "wait_interval": 0
     },
     "base_uri": "https://localhost:8080/",
     "height": 867,
     "output_extras": [
      {
       "item_id": 1
      }
     ]
    },
    "colab_type": "code",
    "executionInfo": {
     "elapsed": 585,
     "status": "ok",
     "timestamp": 1519292326304,
     "user": {
      "displayName": "Arturo Arranz",
      "photoUrl": "//lh6.googleusercontent.com/-0kSNGJlQ_bQ/AAAAAAAAAAI/AAAAAAAADoU/JCUkJDaKwEA/s50-c-k-no/photo.jpg",
      "userId": "109535880582041084151"
     },
     "user_tz": -60
    },
    "id": "rkbSXXOY24Tg",
    "outputId": "3d480739-0680-4522-c8bc-13c5e85cda25"
   },
   "outputs": [
    {
     "name": "stdout",
     "output_type": "stream",
     "text": [
      "[[-7.07406046e-02  1.75910654e-02 -1.07377728e-02  7.31872006e-03\n",
      "   1.01683228e-02 -1.66581856e-02 -2.73795767e-02  6.48801772e-02\n",
      "  -4.05706869e-02  9.74002980e-03 -7.96480468e-03 -3.62788301e-03\n",
      "   1.95771145e-02  8.57782942e-03  4.29682058e-03  2.84601276e-03\n",
      "   6.52963651e-03 -6.44579739e-05  7.60741330e-03 -9.33236977e-03\n",
      "   1.67840916e-02 -7.40608123e-03  2.85988171e-02 -7.69351140e-03\n",
      "  -8.03439185e-03 -5.28177239e-03 -1.43075828e-02  1.15310318e-03\n",
      "   4.72654484e-04  1.07965524e-02 -5.09395519e-03 -7.16636865e-03\n",
      "   3.90923652e-03 -1.60894605e-03  1.00294117e-02  5.28188434e-02\n",
      "   5.39526377e-03 -6.04671948e-03  1.80790702e-03  2.86578735e-03\n",
      "  -5.61700107e-04 -1.20236986e-03 -1.61595677e-02  1.05511511e-03\n",
      "  -6.63026688e-03  8.85178578e-03  5.34451491e-03  9.28194615e-03\n",
      "  -1.16818891e-02  4.21291579e-03  5.70560895e-03 -2.00835667e-03\n",
      "  -2.36334530e-02 -1.31409179e-02 -3.24790693e-03  4.67100464e-03\n",
      "   2.32971378e-02  9.28549749e-03 -3.37479050e-02  8.51668116e-03\n",
      "   3.97557600e-02  1.21116087e-02  1.14976978e-03  7.55419577e-03\n",
      "   3.54215956e-02 -4.70133606e-02  1.02957960e-01 -1.23705361e-02\n",
      "   1.03107176e-02  4.99823777e-03  1.74746098e-02 -1.85212968e-02\n",
      "  -1.54700533e-02 -2.72616494e-02 -1.34561486e-02  1.64205544e-02\n",
      "  -1.69424399e-02 -1.96988124e-03  5.74872107e-02  9.69295589e-03\n",
      "   4.44647301e-03  4.86245168e-03 -1.11604833e-03  2.94545579e-03\n",
      "   1.07644302e-03 -3.31433483e-03 -3.48801127e-02 -2.41528140e-02\n",
      "   7.16074777e-03 -2.58343001e-02  1.24092040e-03  1.57227701e-02\n",
      "  -2.80233601e-03  3.77242190e-02  1.85888417e-02  1.89027140e-02\n",
      "  -2.66215383e-02 -2.65146125e-02  1.68495715e-01  1.70606685e-02\n",
      "   7.61813568e-03 -6.51995092e-02  4.53405320e-02 -4.33111429e-03\n",
      "   6.98471981e-03  2.55265030e-02 -2.55359712e-02 -4.06009368e-02\n",
      "   2.26928812e-02  7.26490100e-03  5.90411583e-03 -8.65871534e-03\n",
      "   1.07853656e-03  3.85460169e-02  3.45314532e-02 -8.14465239e-03\n",
      "   1.35712695e-02  5.67703090e-03  4.14561413e-03  9.11675751e-03\n",
      "   3.33141933e-04 -1.29884494e-03  1.11715957e-02 -1.97596590e-03\n",
      "  -1.80331708e-02  2.08390998e-02  1.67502523e-02  1.37839566e-02\n",
      "  -1.76871154e-03  6.26663245e-03  9.50750789e-04  7.19710253e-02\n",
      "  -2.05000977e-03  2.08882341e-04 -2.29003495e-02  3.61740372e-02\n",
      "   5.15637415e-03  3.03949674e-03  2.69869842e-03 -1.09679597e-02\n",
      "   2.43489999e-02 -4.64835473e-02 -1.61847684e-02  1.85604284e-02\n",
      "  -4.67659970e-03  3.82682050e-02 -5.38463156e-04 -8.75993669e-02\n",
      "  -2.28226613e-04  1.59915034e-03 -4.60788377e-03  5.92341766e-03\n",
      "  -1.39580211e-02 -1.60074277e-02 -4.64539393e-02 -5.34921046e-02\n",
      "   1.81693463e-02 -1.25414350e-01  7.48834193e-02 -1.14402478e-01\n",
      "   2.58799287e-01 -2.93028924e-02 -5.66312242e-02 -1.48179422e-02\n",
      "  -9.10065056e-03 -2.93025865e-02 -2.46255889e-02 -3.99711475e-02\n",
      "   4.51640976e-01  3.19307580e-01  8.80852918e-03 -1.07863340e-02\n",
      "   1.73611610e-02 -5.61830945e-02  3.44922899e-03  1.23520492e-01\n",
      "  -1.35616380e-01 -1.15262276e-01 -1.91831303e-01  5.84624409e-01\n",
      "  -5.66994602e-02  7.61357845e-02 -8.32642046e-02 -6.17831490e-03\n",
      "  -1.71381195e-02 -3.58967578e-02 -2.42087532e-02 -8.23056469e-03\n",
      "  -4.27115609e-02  2.54651893e-02 -8.68240494e-02  7.80477947e-02\n",
      "   2.73043702e-02  1.56833536e-02  1.57468644e-02  1.37213223e-02\n",
      "  -3.81248343e-02 -2.12038628e-02  5.84377391e-03 -2.73104974e-03]]\n"
     ]
    }
   ],
   "source": [
    "lamb, U = np.linalg.eig(X.value)\n",
    "print U[0]\n"
   ]
  },
  {
   "cell_type": "code",
   "execution_count": 0,
   "metadata": {
    "colab": {
     "autoexec": {
      "startup": false,
      "wait_interval": 0
     }
    },
    "colab_type": "code",
    "collapsed": true,
    "id": "vtecna1WCPgO"
   },
   "outputs": [],
   "source": []
  }
 ],
 "metadata": {
  "colab": {
   "collapsed_sections": [],
   "default_view": {},
   "name": "Clustering.ipynb",
   "provenance": [],
   "version": "0.3.2",
   "views": {}
  },
  "kernelspec": {
   "display_name": "Python 2",
   "language": "python",
   "name": "python2"
  },
  "language_info": {
   "codemirror_mode": {
    "name": "ipython",
    "version": 2
   },
   "file_extension": ".py",
   "mimetype": "text/x-python",
   "name": "python",
   "nbconvert_exporter": "python",
   "pygments_lexer": "ipython2",
   "version": "2.7.13"
  }
 },
 "nbformat": 4,
 "nbformat_minor": 1
}
