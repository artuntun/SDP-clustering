{
  "nbformat": 4,
  "nbformat_minor": 0,
  "metadata": {
    "colab": {
      "name": "graphTheoryNotes.ipynb",
      "version": "0.3.2",
      "views": {},
      "default_view": {},
      "provenance": [],
      "collapsed_sections": []
    },
    "kernelspec": {
      "name": "python2",
      "display_name": "Python 2"
    }
  },
  "cells": [
    {
      "metadata": {
        "id": "iXhZtZ9gNR5e",
        "colab_type": "code",
        "colab": {
          "autoexec": {
            "startup": false,
            "wait_interval": 0
          }
        }
      },
      "cell_type": "code",
      "source": [
        "!pip install cvxpy"
      ],
      "execution_count": 0,
      "outputs": []
    },
    {
      "metadata": {
        "id": "HX-WF_uF7ZRj",
        "colab_type": "text"
      },
      "cell_type": "markdown",
      "source": [
        "# Adjacency and neighbors"
      ]
    },
    {
      "metadata": {
        "id": "lD9H_7ZGKqPO",
        "colab_type": "text"
      },
      "cell_type": "markdown",
      "source": [
        "The case of tow vertices sharing the same neighbors will be reflected in the adjacency matrix as having the same column. In linear algebra this mean many things. For example that matrix won't be full rank since this two columns are linearly dependent. This also means that that the associated eigenvalue will be 0 and the associated eigenvector will have -1 and 1 in the twin vertices position and 0 everywhereelse. For example in the case of\n",
        "\n",
        "$A = \\begin{bmatrix}\n",
        "  0 & 1 & 0 \\\\\n",
        "  1 & 0 & 1 \\\\\n",
        "  0 & 1 & 0 \\\\\n",
        "\\end{bmatrix}$\n",
        "\n",
        "and eigenvalue is 0 associated to $v = [-1,0,1]$ as it is demonstrated by\n",
        "\n",
        "$-1\\begin{bmatrix}\n",
        "  0\\\\\n",
        "  1\\\\\n",
        "  0\\\\\n",
        "\\end{bmatrix} +\n",
        "0\\begin{bmatrix}\n",
        "  1\\\\\n",
        "  0\\\\\n",
        "  1\\\\\n",
        "\\end{bmatrix} +\n",
        "1\\begin{bmatrix}\n",
        "  0\\\\\n",
        "  1\\\\\n",
        "  0\\\\\n",
        "\\end{bmatrix}=\n",
        "0\\begin{bmatrix}\n",
        "  -1\\\\\n",
        "  0\\\\\n",
        "  1\\\\\n",
        "\\end{bmatrix}$\n",
        "\n",
        "Now let's analyze a more complex graph with 5 nodes.\n"
      ]
    },
    {
      "metadata": {
        "id": "rPttRhuEziWy",
        "colab_type": "code",
        "colab": {
          "autoexec": {
            "startup": false,
            "wait_interval": 0
          },
          "output_extras": [
            {
              "item_id": 1
            },
            {
              "item_id": 2
            }
          ],
          "base_uri": "https://localhost:8080/",
          "height": 294
        },
        "outputId": "e5372a68-49af-43d5-d793-eb0cbe3f6d87",
        "executionInfo": {
          "status": "ok",
          "timestamp": 1518598728655,
          "user_tz": -60,
          "elapsed": 591,
          "user": {
            "displayName": "Arturo Arranz",
            "photoUrl": "//lh6.googleusercontent.com/-0kSNGJlQ_bQ/AAAAAAAAAAI/AAAAAAAADoU/JCUkJDaKwEA/s50-c-k-no/photo.jpg",
            "userId": "109535880582041084151"
          }
        }
      },
      "cell_type": "code",
      "source": [
        "import numpy as np\n",
        "import networkx as nx\n",
        "import scipy as sp\n",
        "import matplotlib.pyplot as plt\n",
        "\n",
        "G = nx.Graph()\n",
        "e = [(1, 4),(1,5),(2,4),(2,5),(3,4),(3,5)]\n",
        "#e = [(1, 2),(3,2)]\n",
        "G.add_edges_from(e)\n",
        "#printing\n",
        "A = nx.adjacency_matrix(G).todense()\n",
        "print('A =\\n {}').format(A)\n",
        "plt.figure(figsize=(4,2))\n",
        "nx.draw(G,nlist=[[range(3, 5)], range(3)], with_labels=True, font_weight='bold')\n",
        "plt.show()\n"
      ],
      "execution_count": 5,
      "outputs": [
        {
          "output_type": "stream",
          "text": [
            "A =\n",
            " [[0 0 0 1 1]\n",
            " [0 0 0 1 1]\n",
            " [0 0 0 1 1]\n",
            " [1 1 1 0 0]\n",
            " [1 1 1 0 0]]\n"
          ],
          "name": "stdout"
        },
        {
          "output_type": "display_data",
          "data": {
            "image/png": "[encoded data removed]",
            "text/plain": [
              "<matplotlib.figure.Figure at 0x7fdd9142ecd0>"
            ]
          },
          "metadata": {
            "tags": []
          }
        }
      ]
    },
    {
      "metadata": {
        "id": "db1uyzljTMUj",
        "colab_type": "text"
      },
      "cell_type": "markdown",
      "source": [
        "This graph is also called bipartite graph since it can be devided in two groups. A group with $m$ and another with $n$ nodes where nihtbours are shared within the group, i.e. 1,2 and 3 share same neighbours and the same happen for 4 and 5."
      ]
    },
    {
      "metadata": {
        "id": "9vGxprv67bqN",
        "colab_type": "code",
        "colab": {
          "autoexec": {
            "startup": false,
            "wait_interval": 0
          },
          "output_extras": [
            {
              "item_id": 1
            }
          ],
          "base_uri": "https://localhost:8080/",
          "height": 170
        },
        "outputId": "147b6d1a-7e14-4998-fd65-dd4440aa9860",
        "executionInfo": {
          "status": "ok",
          "timestamp": 1518598732776,
          "user_tz": -60,
          "elapsed": 607,
          "user": {
            "displayName": "Arturo Arranz",
            "photoUrl": "//lh6.googleusercontent.com/-0kSNGJlQ_bQ/AAAAAAAAAAI/AAAAAAAADoU/JCUkJDaKwEA/s50-c-k-no/photo.jpg",
            "userId": "109535880582041084151"
          }
        }
      },
      "cell_type": "code",
      "source": [
        "\n",
        "lamb,V = np.linalg.eig(A)\n",
        "np.set_printoptions(2, suppress=True, floatmode='fixed')\n",
        "\n",
        "print('eigenvalues =\\n {}').format(lamb)\n",
        "print('eigenvectors =\\n {}').format(V)\n",
        "print('Rank of V = {}').format(np.linalg.matrix_rank(V))\n"
      ],
      "execution_count": 6,
      "outputs": [
        {
          "output_type": "stream",
          "text": [
            "eigenvalues =\n",
            " [-2.45  2.45 -0.00  0.00  0.00]\n",
            "eigenvectors =\n",
            " [[-0.41  0.41  0.41 -0.08  0.02]\n",
            " [-0.41  0.41 -0.82 -0.66  0.21]\n",
            " [-0.41  0.41  0.41  0.74 -0.23]\n",
            " [ 0.50  0.50 -0.00  0.03 -0.67]\n",
            " [ 0.50  0.50 -0.00 -0.03  0.67]]\n",
            "Rank of V = 5\n"
          ],
          "name": "stdout"
        }
      ]
    },
    {
      "metadata": {
        "id": "q1e9j6j4TJXq",
        "colab_type": "text"
      },
      "cell_type": "markdown",
      "source": [
        "  As we can see we got 5 linealry indepedent eigenvectors where **(m-1)+(n-1) = 3 are associated to 0 eigenvalue**. And importante observation is that the eigenvectors are not the archetype we talked about (-1,1,0,0,0) althought they are valid eigenvectors. However we have to remember that there can be infinite eigenvectors, and that is just one of them. However, it is important to point that the 5 eigenvectors are going to be always linearly independent as the rank of V indicate. It can be also proven that the remaining eigenvalues are going to be $\\pm \\sqrt{mn}=\\pm2.45$."
      ]
    },
    {
      "metadata": {
        "id": "2ECaLQZVt8JC",
        "colab_type": "text"
      },
      "cell_type": "markdown",
      "source": [
        "# Laplacian Matrix\n",
        "\n",
        "The laplacian matrix is defined as L = D - A, where D is a diagonal matrix which entries are the row sum of the adjacency matrix. \n",
        "\n",
        "$$L =\\begin{bmatrix}\n",
        "  1 & 0 & 0 \\\\\n",
        "  0 & 2 & 0 \\\\\n",
        "  0 & 0 & 1 \\\\\n",
        "\\end{bmatrix}-\n",
        "\\begin{bmatrix}\n",
        "  0 & 1 & 0 \\\\\n",
        "  1 & 0 & 1 \\\\\n",
        "  0 & 1 & 0 \\\\\n",
        "\\end{bmatrix}=\n",
        "\\begin{bmatrix}\n",
        "  1 & -1 & 0 \\\\\n",
        "  -1 & 2 & -1 \\\\\n",
        "  0 & -1 & 1 \\\\\n",
        "\\end{bmatrix}$$\n",
        "\n",
        "Before doint any prove we can enumerate the following proporties of the Laplacian matrix. \n",
        "- 0 is always an eigenvalue with the eigenvector of all ones. \n",
        "- all the eigenvalues are non-negative i.e $\\lambda(A)\\ge 0$\n",
        "- 0 is actually the smallest eigenvalue\n",
        "- the algebraical multiplicity of $\\lambda = 0$ is the number of components in the graph\n",
        "\n",
        "**Proof first statement**: all the rows sum to one. If all the rows are combined with no scaling, which correspond to multiply to the vector of ones, we get the vectors of zeros. This is equal to multiplying the vector of ones with the scalar 0. \n",
        "$$L \\vec{1} = 0 \\vec{1}$$\n",
        "\n",
        "**Second statement** can be proven in different ways. An easy one would be by the Gershgorin theorem which state that every eigenvalue of a given matrix fall in at least one Gergorish disc. The i-th disc is denoted as $D(a_{ii},R_i)$ where a is the center of the disc and R is the radius. $a_{ii}$ is the value of i-th position at the diagonal of A and R_i is the sum of the offdiagonal values at the i-th row. In the case of the laplacian matrix the offdiagonal values of the rwo will sum exactly up to the value of the diagonal, so at minimum we will get 0 but never negative eigenvalues. \n",
        "\n",
        "**Third statement** Follows from the two previous proofs.  All the eignvalues are positive and we will always have the 0 eigenvalue.\n",
        "\n",
        "**Fourth statement** Let's work in the following graph with two groups.\n",
        "\n",
        "\n"
      ]
    },
    {
      "metadata": {
        "id": "mr6K-k83H5gm",
        "colab_type": "code",
        "colab": {
          "autoexec": {
            "startup": false,
            "wait_interval": 0
          },
          "output_extras": [
            {
              "item_id": 1
            },
            {
              "item_id": 2
            }
          ],
          "base_uri": "https://localhost:8080/",
          "height": 294
        },
        "outputId": "d4e97108-2a17-4837-f081-36d07e785a7a",
        "executionInfo": {
          "status": "ok",
          "timestamp": 1518598746417,
          "user_tz": -60,
          "elapsed": 579,
          "user": {
            "displayName": "Arturo Arranz",
            "photoUrl": "//lh6.googleusercontent.com/-0kSNGJlQ_bQ/AAAAAAAAAAI/AAAAAAAADoU/JCUkJDaKwEA/s50-c-k-no/photo.jpg",
            "userId": "109535880582041084151"
          }
        }
      },
      "cell_type": "code",
      "source": [
        "G = nx.Graph()\n",
        "G.add_edges_from([(1,3),(4,5),(3,2),(2,1)])\n",
        "G.add_edge(1,4,penwidth=3.0)\n",
        "A = nx.adjacency_matrix(G).todense()\n",
        "D = np.diag(np.sum(np.array(A),axis=1))\n",
        "L = D - A\n",
        "print('L =\\n {}').format(L)\n",
        "plt.figure(figsize=(3,2))\n",
        "nx.draw(G,nlist=[[range(3, 5)], range(3)], with_labels=True, font_weight='bold')\n",
        "plt.show()"
      ],
      "execution_count": 8,
      "outputs": [
        {
          "output_type": "stream",
          "text": [
            "L =\n",
            " [[ 3 -1 -1 -1  0]\n",
            " [-1  2 -1  0  0]\n",
            " [-1 -1  2  0  0]\n",
            " [-1  0  0  2 -1]\n",
            " [ 0  0  0 -1  1]]\n"
          ],
          "name": "stdout"
        },
        {
          "output_type": "display_data",
          "data": {
            "image/png": "[encoded data removed]",
            "text/plain": [
              "<matplotlib.figure.Figure at 0x7fdd913b1250>"
            ]
          },
          "metadata": {
            "tags": []
          }
        }
      ]
    },
    {
      "metadata": {
        "id": "YoPVDEdkRe60",
        "colab_type": "text"
      },
      "cell_type": "markdown",
      "source": [
        "As we can see the column 1,2,3 can be combined linearly with no scaling to produce a 0 vector. The same happen between the columns 4 and 5. This mean that we can create 2 orthogonal eigenvectors associated to the eigenvalue 0: $v_1 = (1,1,1,0,0)$ and $v_2 = (0,0,0,1,1)$. From this follow that a fully connected graph will always have a non-zero second smalles eigenvalue from its Laplacian. "
      ]
    },
    {
      "metadata": {
        "id": "jSa_gZ74wJ-h",
        "colab_type": "code",
        "colab": {
          "autoexec": {
            "startup": false,
            "wait_interval": 0
          },
          "output_extras": [
            {
              "item_id": 1
            }
          ],
          "base_uri": "https://localhost:8080/",
          "height": 153
        },
        "outputId": "61f1a406-29a0-4e64-98a8-21e9117a2f7b",
        "executionInfo": {
          "status": "ok",
          "timestamp": 1517939911323,
          "user_tz": -60,
          "elapsed": 706,
          "user": {
            "displayName": "Arturo Arranz",
            "photoUrl": "//lh6.googleusercontent.com/-0kSNGJlQ_bQ/AAAAAAAAAAI/AAAAAAAADoU/JCUkJDaKwEA/s50-c-k-no/photo.jpg",
            "userId": "109535880582041084151"
          }
        }
      },
      "cell_type": "code",
      "source": [
        "\n",
        "lambL, eigL = np.linalg.eig(L)\n",
        "print('eigenvalues =\\n {}').format(lambL)\n",
        "print('eigenvectors =\\n {}').format(eigL)"
      ],
      "execution_count": 47,
      "outputs": [
        {
          "output_type": "stream",
          "text": [
            "eigenvalues =\n",
            " [ 3.00 -0.00  3.00  2.00  0.00]\n",
            "eigenvectors =\n",
            " [[ 0.82 -0.58  0.29  0.00  0.00]\n",
            " [-0.41 -0.58 -0.81  0.00  0.00]\n",
            " [-0.41 -0.58  0.51  0.00  0.00]\n",
            " [ 0.00  0.00  0.00  0.71  0.71]\n",
            " [ 0.00  0.00  0.00 -0.71  0.71]]\n"
          ],
          "name": "stdout"
        }
      ]
    },
    {
      "metadata": {
        "id": "a8zzphykpdpi",
        "colab_type": "text"
      },
      "cell_type": "markdown",
      "source": [
        ""
      ]
    },
    {
      "metadata": {
        "id": "b8KlXU89nXoR",
        "colab_type": "text"
      },
      "cell_type": "markdown",
      "source": [
        "# Spectral Clustering\n",
        "\n",
        "Spectral clustering is a method which exploit the unique proporties of the Laplacian matrix in order to detect groups . Althought it is used in graph clustering it can be generalize for any dataset $X= \\{ x_1,x_2,...,x_p \\} $ for $x \\in \\mathbb{R}^n$. The generalize algorithm consist in the following steps:\n",
        "\n",
        "1. Create a similarity matrix of the points $\\mathbb{S}^{p\\times p}$, for example using a distance metric. The most common function to measure this similarity is the gaussian $s(x_i,x_j) = \\text{exp}(-|x_i - x_j|/(2\\sigma^2))$. The norm, $d(x_i,x_j) = \\text{norm}(x_i - x_j)$ would be another example. \n",
        "2. Create the weighted adjacency matrix $W^{p \\times p}$ which is basically setting the diagonal of $\\mathbb{S}$ to zero. Then compute its Laplacian $L^{p \\times p}$.\n",
        "3. **Compute the first *k* eigenvectors $u_1,u_2,...u_k$ of L.** And let $U^{p \\times k}$ be the matrix composed by such eigenvectors.\n",
        "4. Defining $y_i \\in \\mathbb{R}^k$ for $i = 1,2,...p,$ as the row vectors of U, make clustering of the points $y_i$ using the *k*-means algorithm into the clusters $C_1,...C_k$.\n",
        "\n",
        "Output: clusters $A_1,..A_j$ where $A_i = \\{j | y_j \\in C_i\\}$ and j denoting the $x_j$ point.\n",
        "\n",
        "The key feature of this method is the change of represenation of the datapoints $x_i$ to points $y_i \\in \\mathbb{R}^k$ where the clustering properties are enhanced. This will be ilustrated with a toy example. "
      ]
    },
    {
      "metadata": {
        "id": "4wntPCPD_G3D",
        "colab_type": "code",
        "colab": {
          "autoexec": {
            "startup": false,
            "wait_interval": 0
          },
          "output_extras": [
            {
              "item_id": 1
            }
          ],
          "base_uri": "https://localhost:8080/",
          "height": 350
        },
        "outputId": "c5e4258b-150b-4251-bfe4-0af9803c886f",
        "executionInfo": {
          "status": "ok",
          "timestamp": 1518614673925,
          "user_tz": -60,
          "elapsed": 864,
          "user": {
            "displayName": "Arturo Arranz",
            "photoUrl": "//lh6.googleusercontent.com/-0kSNGJlQ_bQ/AAAAAAAAAAI/AAAAAAAADoU/JCUkJDaKwEA/s50-c-k-no/photo.jpg",
            "userId": "109535880582041084151"
          }
        }
      },
      "cell_type": "code",
      "source": [
        "sigma = 0.2\n",
        "x = 2 + sigma*np.random.randn(100)\n",
        "x2 = 4 + sigma*np.random.randn(100)\n",
        "x3 = 6 + sigma*np.random.randn(100)\n",
        "x4 = 8 + sigma*np.random.randn(100)\n",
        "X = np.concatenate((x,x2,x3,x4))\n",
        "n, bins, patches = plt.hist(X, 100, normed=1, facecolor='green', alpha=0.75)"
      ],
      "execution_count": 131,
      "outputs": [
        {
          "output_type": "display_data",
          "data": {
            "image/png": "[encoded data removed]",
            "text/plain": [
              "<matplotlib.figure.Figure at 0x7fdd9350da50>"
            ]
          },
          "metadata": {
            "tags": []
          }
        }
      ]
    },
    {
      "metadata": {
        "id": "DMn_Gol0iecy",
        "colab_type": "text"
      },
      "cell_type": "markdown",
      "source": [
        "Data generated from 4 gaussians with variance equal to 0.2."
      ]
    },
    {
      "metadata": {
        "id": "IpMTWV2hBZDV",
        "colab_type": "code",
        "colab": {
          "autoexec": {
            "startup": false,
            "wait_interval": 0
          },
          "output_extras": [
            {
              "item_id": 1
            },
            {
              "item_id": 2
            }
          ],
          "base_uri": "https://localhost:8080/",
          "height": 378
        },
        "outputId": "387838ae-fcad-485a-e1c1-34d15832fed2",
        "executionInfo": {
          "status": "ok",
          "timestamp": 1518617929855,
          "user_tz": -60,
          "elapsed": 1421,
          "user": {
            "displayName": "Arturo Arranz",
            "photoUrl": "//lh6.googleusercontent.com/-0kSNGJlQ_bQ/AAAAAAAAAAI/AAAAAAAADoU/JCUkJDaKwEA/s50-c-k-no/photo.jpg",
            "userId": "109535880582041084151"
          }
        }
      },
      "cell_type": "code",
      "source": [
        "# Step 1: Create similarity matrix\n",
        "p = X.shape[0]\n",
        "S = np.zeros((X.shape[0],X.shape[0]))\n",
        "for i in range(p):\n",
        "  for j in range(p):\n",
        "    S[i,j] = np.exp(-(abs(X[i]-X[j])**2)/(0.5**2*2))\n",
        "\n",
        "# Step 2: Create Laplacian matrix\n",
        "W = S - np.diag(np.diag(S))\n",
        "D = np.diag(np.sum(W,axis=0))\n",
        "L = D - W\n",
        "\n",
        "# Step 3: Calculate the k first eigenvectors\n",
        "k = 4\n",
        "lamb,V = np.linalg.eig(L)\n",
        "idx = lamb.argsort()\n",
        "lambOrder = lamb[idx]\n",
        "VOrder = V[:,idx]\n",
        "print lambOrder[:6]\n",
        "plt.scatter(range(1,10),lambOrder[:9])\n",
        "plt.xlabel('Eigenvalues')\n",
        "plt.show()"
      ],
      "execution_count": 146,
      "outputs": [
        {
          "output_type": "stream",
          "text": [
            "[-0.00  0.11  0.38  0.66 41.64 59.16]\n"
          ],
          "name": "stdout"
        },
        {
          "output_type": "display_data",
          "data": {
            "image/png": "[encoded data removed]",
            "text/plain": [
              "<matplotlib.figure.Figure at 0x7fdd9025dc10>"
            ]
          },
          "metadata": {
            "tags": []
          }
        }
      ]
    },
    {
      "metadata": {
        "id": "R-mUhhidinqk",
        "colab_type": "text"
      },
      "cell_type": "markdown",
      "source": [
        "For the similarity matrix the gaussian function with variance equal to 0.5 has been used. After odering the the eignvalues of L in an ascending manner we can see how the first 4 of them are very low compared with the rest. This bascially indicate that for those 4 eigenvectors, when combined linearly with the columns of L, there are almost anquilation of all the terms. Recall that the multiplicity of the eigenvalue 0 corresponds to the number of connected components in the graph when the the graph is perfectly splitable. Intuitevely, this is the same that is happening in this case. However, in this case instead of being completly separeted groups, it is very weakly connected components(Gaussian function is positive even for long distance), which explain the almost 0 value of those eignavlues."
      ]
    },
    {
      "metadata": {
        "id": "_mPYaxaFqCCj",
        "colab_type": "code",
        "colab": {
          "autoexec": {
            "startup": false,
            "wait_interval": 0
          },
          "output_extras": [
            {
              "item_id": 1
            }
          ],
          "base_uri": "https://localhost:8080/",
          "height": 204
        },
        "outputId": "e061cedf-dfba-43df-f422-3dfd519edbbe",
        "executionInfo": {
          "status": "ok",
          "timestamp": 1518618561643,
          "user_tz": -60,
          "elapsed": 554,
          "user": {
            "displayName": "Arturo Arranz",
            "photoUrl": "//lh6.googleusercontent.com/-0kSNGJlQ_bQ/AAAAAAAAAAI/AAAAAAAADoU/JCUkJDaKwEA/s50-c-k-no/photo.jpg",
            "userId": "109535880582041084151"
          }
        }
      },
      "cell_type": "code",
      "source": [
        "# Step 4: k-means clustering in the new data representation\n",
        "U = VOrder[:,:4]\n",
        "from sklearn.cluster import KMeans\n",
        "kmeans = KMeans(n_clusters=4, random_state=0).fit(U)\n",
        "print kmeans.labels_"
      ],
      "execution_count": 153,
      "outputs": [
        {
          "output_type": "stream",
          "text": [
            "[2 2 2 2 2 2 2 2 2 2 2 2 2 2 2 2 2 2 2 2 2 2 2 2 2 2 2 2 2 2 2 2 2 2 2 2 2\n",
            " 2 2 2 2 2 2 2 2 2 2 2 2 2 2 2 2 2 2 2 2 2 2 2 2 2 2 2 2 2 2 2 2 2 2 2 2 2\n",
            " 2 2 2 2 2 2 2 2 2 2 2 2 2 2 2 2 2 2 2 2 2 2 2 2 2 2 0 0 0 0 0 0 0 0 0 0 0\n",
            " 0 0 0 0 0 0 0 0 0 0 0 0 0 0 0 0 0 0 0 0 0 0 0 0 0 0 0 0 0 0 0 0 0 0 0 0 0\n",
            " 0 0 0 0 0 0 0 0 0 0 0 0 0 0 0 0 0 0 0 0 0 0 0 0 0 0 0 0 0 0 0 0 0 0 0 0 0\n",
            " 0 0 0 0 0 0 0 0 0 0 0 0 0 0 0 3 3 3 3 3 3 3 3 3 3 3 3 3 3 3 3 3 3 3 3 3 3\n",
            " 3 3 3 3 3 3 3 3 3 3 3 3 3 3 3 3 3 3 3 3 3 3 3 3 3 3 3 3 3 3 3 3 3 3 3 3 3\n",
            " 3 3 3 3 3 3 3 3 3 3 3 3 3 3 3 3 3 3 3 3 3 3 3 3 3 3 3 3 3 3 3 3 3 3 3 3 3\n",
            " 3 3 3 3 1 1 1 1 1 1 1 1 1 1 1 1 1 1 1 1 1 1 1 1 1 1 1 1 1 1 1 1 1 1 1 1 1\n",
            " 1 1 1 1 1 1 1 1 1 1 1 1 1 1 1 1 1 1 1 1 1 1 1 1 1 1 1 1 1 1 1 1 1 1 1 1 1\n",
            " 1 1 1 1 1 1 1 1 1 1 1 1 1 1 1 1 1 1 1 1 1 1 1 1 1 1 1 1 1 1]\n"
          ],
          "name": "stdout"
        }
      ]
    },
    {
      "metadata": {
        "id": "lT6xhq8CuLD9",
        "colab_type": "text"
      },
      "cell_type": "markdown",
      "source": [
        ""
      ]
    },
    {
      "metadata": {
        "id": "sKpZpAR4uXjQ",
        "colab_type": "code",
        "colab": {
          "autoexec": {
            "startup": false,
            "wait_interval": 0
          },
          "output_extras": [
            {
              "item_id": 1
            }
          ],
          "base_uri": "https://localhost:8080/",
          "height": 362
        },
        "outputId": "bff0a3f1-89b6-43ac-d8a7-d353c5bc94e0",
        "executionInfo": {
          "status": "ok",
          "timestamp": 1518624711333,
          "user_tz": -60,
          "elapsed": 1009,
          "user": {
            "displayName": "Arturo Arranz",
            "photoUrl": "//lh6.googleusercontent.com/-0kSNGJlQ_bQ/AAAAAAAAAAI/AAAAAAAADoU/JCUkJDaKwEA/s50-c-k-no/photo.jpg",
            "userId": "109535880582041084151"
          }
        }
      },
      "cell_type": "code",
      "source": [
        "f, axarr = plt.subplots(2, 2)\n",
        "axarr[0,0].plot(U[:,0]); axarr[0,0].set_title('Eigenvector 1'); axarr[0,0].set_ylim(-0.075,0.05)\n",
        "axarr[0,1].plot(U[:,1]); axarr[0,1].set_title('Eigenvector 2')\n",
        "axarr[1,0].plot(U[:,2]); axarr[1,0].set_title('Eigenvector 3')\n",
        "axarr[1,1].plot(U[:,3]); axarr[1,1].set_title('Eigenvector 4')\n",
        "plt.show()"
      ],
      "execution_count": 162,
      "outputs": [
        {
          "output_type": "display_data",
          "data": {
            "image/png": "[encoded data removed]",
            "text/plain": [
              "<matplotlib.figure.Figure at 0x7fdd88a34c90>"
            ]
          },
          "metadata": {
            "tags": []
          }
        }
      ]
    },
    {
      "metadata": {
        "id": "-hh9CVzuv1lh",
        "colab_type": "text"
      },
      "cell_type": "markdown",
      "source": [
        "As we can se the new represenation separete almost perfectly each cluster.\n"
      ]
    },
    {
      "metadata": {
        "id": "wtzt2hzukKq9",
        "colab_type": "text"
      },
      "cell_type": "markdown",
      "source": [
        "# Graph cut for k=2\n",
        "\n",
        "### MinCut(easy solvable by Stoer and Wagner (1997))\n",
        "$$\\text{mincut(A,B)}:=\\text{min} \\frac{1}{2}\\big(\\sum_{i\\in A, j\\in \\bar{A}} w_{ij}+ \\sum_{i\\in B, j\\in \\bar{B}} w_{ij}\\big)$$\n",
        "\n",
        "### RatioCut (NP hard problem)\n",
        "$$\\text{Ratiocut(A,B)}:=\\text{min}\\frac{1}{2}\\big(\\frac{1}{|A|}\\sum_{i\\in A, j\\in \\bar{A}} w_{ij}+ \\frac{1}{|B|}\\sum_{i\\in B, j\\in \\bar{B}} w_{ij}\\big)$$\n",
        "\n",
        "### Different formulation of RatioCut (still NP hard problem)\n",
        "min $f'Lf$ subject to f orthognoal to $\\mathbb{1}$ and $ ||f||=\\sqrt{n}$\n",
        "\n",
        "where $f_i = 1$ if $v_i \\in A$ and $f_i = -1$ if $v_i \\in B$\n",
        "\n",
        "### RatioCut Relaxation(solvable)\n",
        "min $f'Lf$ subject to f orthognoal to $\\mathbb{1}$ and $ ||f||=\\sqrt{n}$\n",
        "\n",
        "where $f$ can have aribitrary values$\n",
        "\n",
        "\n"
      ]
    },
    {
      "metadata": {
        "id": "GU9Cx0dywMJU",
        "colab_type": "text"
      },
      "cell_type": "markdown",
      "source": [
        ""
      ]
    },
    {
      "metadata": {
        "id": "HZa8Hm2HM-0C",
        "colab_type": "code",
        "colab": {
          "autoexec": {
            "startup": false,
            "wait_interval": 0
          },
          "output_extras": [
            {
              "item_id": 1
            }
          ],
          "base_uri": "https://localhost:8080/",
          "height": 697
        },
        "outputId": "6ac2e95b-471d-47a0-997a-3a3ca7052823",
        "executionInfo": {
          "status": "ok",
          "timestamp": 1518626781362,
          "user_tz": -60,
          "elapsed": 788,
          "user": {
            "displayName": "Arturo Arranz",
            "photoUrl": "//lh6.googleusercontent.com/-0kSNGJlQ_bQ/AAAAAAAAAAI/AAAAAAAADoU/JCUkJDaKwEA/s50-c-k-no/photo.jpg",
            "userId": "109535880582041084151"
          }
        }
      },
      "cell_type": "code",
      "source": [
        "from cvxpy import *\n",
        "import numpy\n",
        "\n",
        "# Problem data.\n",
        "m = 30\n",
        "n = 20\n",
        "numpy.random.seed(1)\n",
        "A = numpy.random.randn(m, n)\n",
        "b = numpy.random.randn(m)\n",
        "\n",
        "# Construct the problem.\n",
        "x = Variable(n)\n",
        "objective = Minimize(sum_squares(A*x - b))\n",
        "constraints = [0 <= x, x <= 1]\n",
        "prob = Problem(objective, constraints)\n",
        "\n",
        "# The optimal objective is returned by prob.solve().\n",
        "result = prob.solve()\n",
        "# The optimal value for x is stored in x.value.\n",
        "print x.value\n",
        "# The optimal Lagrange multiplier for a constraint\n",
        "# is stored in constraint.dual_value.\n",
        "print constraints[0].dual_value"
      ],
      "execution_count": 166,
      "outputs": [
        {
          "output_type": "stream",
          "text": [
            "[[0.00]\n",
            " [0.03]\n",
            " [0.00]\n",
            " [0.00]\n",
            " [0.00]\n",
            " [0.15]\n",
            " [0.00]\n",
            " [0.00]\n",
            " [0.25]\n",
            " [0.58]\n",
            " [0.00]\n",
            " [0.00]\n",
            " [0.00]\n",
            " [0.23]\n",
            " [0.00]\n",
            " [0.00]\n",
            " [0.00]\n",
            " [0.00]\n",
            " [0.00]\n",
            " [0.00]]\n",
            "[[ 2.51]\n",
            " [ 0.00]\n",
            " [ 2.78]\n",
            " [ 1.79]\n",
            " [13.09]\n",
            " [ 0.00]\n",
            " [ 0.74]\n",
            " [ 3.35]\n",
            " [ 0.00]\n",
            " [ 0.00]\n",
            " [ 8.94]\n",
            " [ 0.00]\n",
            " [ 7.03]\n",
            " [ 0.00]\n",
            " [ 4.71]\n",
            " [ 3.19]\n",
            " [ 2.06]\n",
            " [10.08]\n",
            " [ 3.05]\n",
            " [ 8.53]]\n"
          ],
          "name": "stdout"
        }
      ]
    }
  ]
}